{
 "cells": [
  {
   "cell_type": "code",
   "id": "initial_id",
   "metadata": {
    "collapsed": true,
    "ExecuteTime": {
     "end_time": "2024-12-30T23:26:24.484832Z",
     "start_time": "2024-12-30T23:26:23.492060Z"
    }
   },
   "source": [
    "import pandas as pd\n",
    "import re\n",
    "import random\n",
    "from sklearn.model_selection import train_test_split\n",
    "from sklearn.neighbors import KNeighborsClassifier\n",
    "from sklearn.svm import SVC\n",
    "from sklearn.ensemble import RandomForestClassifier\n",
    "from sklearn.model_selection import KFold, cross_val_score\n",
    "from xgboost import XGBClassifier\n",
    "from sklearn.preprocessing import LabelEncoder, StandardScaler\n",
    "from sklearn.linear_model import LogisticRegression\n",
    "from collections import Counter\n",
    "import itertools"
   ],
   "outputs": [],
   "execution_count": 1
  },
  {
   "cell_type": "code",
   "outputs": [],
   "source": [
    "# Excel file path\n",
    "file_path = \"C:\\\\Users\\\\Berkay\\\\PycharmProjects\\\\MLClassification\\\\data\\\\output 2024-08-09 pmt 14.25.07 2024-08-09 pmt 14.26.08.xlsx\""
   ],
   "metadata": {
    "collapsed": false,
    "ExecuteTime": {
     "end_time": "2024-12-30T23:26:24.487744Z",
     "start_time": "2024-12-30T23:26:24.485342Z"
    }
   },
   "id": "7cba56bc8ef35337",
   "execution_count": 2
  },
  {
   "cell_type": "code",
   "outputs": [],
   "source": [
    "# Read the Excel file\n",
    "df = pd.read_excel(file_path)"
   ],
   "metadata": {
    "collapsed": false,
    "ExecuteTime": {
     "end_time": "2024-12-30T23:26:24.636500Z",
     "start_time": "2024-12-30T23:26:24.487744Z"
    }
   },
   "id": "422f62d665da8802",
   "execution_count": 3
  },
  {
   "cell_type": "code",
   "outputs": [],
   "source": [
    "# Clean DNA sequences and fill deleted characters with random bases\n",
    "def clean_sequence(sequence):\n",
    "    invalid_indices = [i for i, char in enumerate(sequence) if char not in 'ATGCatgc']\n",
    "    sequence = re.sub(r'[^ATGCatgc]', '', sequence)\n",
    "    for i in invalid_indices:\n",
    "        random_base = random.choice('ATGC')\n",
    "        sequence = sequence[:i] + random_base + sequence[i:]\n",
    "    return sequence\n",
    "\n",
    "df['Sequence'] = df['Sequence'].apply(clean_sequence)"
   ],
   "metadata": {
    "collapsed": false,
    "ExecuteTime": {
     "end_time": "2024-12-30T23:26:24.640869Z",
     "start_time": "2024-12-30T23:26:24.636500Z"
    }
   },
   "id": "866eef4f07e90af7",
   "execution_count": 4
  },
  {
   "cell_type": "code",
   "outputs": [],
   "source": [
    "# Calculate k-mer frequencies (including all possible k-mers)\n",
    "def get_kmer_frequencies(sequence, k):\n",
    "    kmer_counts = Counter([sequence[i:i+k] for i in range(len(sequence) - k + 1)])\n",
    "    all_kmers = [''.join(x) for x in itertools.product('ATGC', repeat=k)]\n",
    "    total_kmers = len(sequence) - k + 1\n",
    "    return {kmer: kmer_counts.get(kmer, 0) / total_kmers for kmer in all_kmers}"
   ],
   "metadata": {
    "collapsed": false,
    "ExecuteTime": {
     "end_time": "2024-12-30T23:26:24.644500Z",
     "start_time": "2024-12-30T23:26:24.641873Z"
    }
   },
   "id": "119581104291e4ba",
   "execution_count": 5
  },
  {
   "cell_type": "code",
   "outputs": [],
   "source": [
    "# Calculate GC content\n",
    "def get_gc_content(sequence):\n",
    "    gc_count = sequence.count('G') + sequence.count('C')\n",
    "    return gc_count / len(sequence) if len(sequence) > 0 else 0"
   ],
   "metadata": {
    "collapsed": false,
    "ExecuteTime": {
     "end_time": "2024-12-30T23:26:24.647233Z",
     "start_time": "2024-12-30T23:26:24.644500Z"
    }
   },
   "id": "167783f4e5b4fb54",
   "execution_count": 6
  },
  {
   "cell_type": "code",
   "outputs": [],
   "source": [
    "# Calculate dinucleotide frequencies\n",
    "def get_dinucleotide_frequencies(sequence):\n",
    "    \"\"\"\n",
    "    Calculates the dinucleotide frequencies in a DNA sequence.\n",
    "    Prevents NaN values by considering all possible dinucleotides.\n",
    "    \"\"\"\n",
    "    dinucleotide_counts = Counter([sequence[i:i+2] for i in range(len(sequence) - 1)])\n",
    "    all_dinucleotides = [''.join(x) for x in itertools.product('ATGC', repeat=2)]\n",
    "    total_dinucleotides = len(sequence) - 1\n",
    "    return {dinucleotide: dinucleotide_counts.get(dinucleotide, 0) / total_dinucleotides for dinucleotide in all_dinucleotides}"
   ],
   "metadata": {
    "collapsed": false,
    "ExecuteTime": {
     "end_time": "2024-12-30T23:26:24.650137Z",
     "start_time": "2024-12-30T23:26:24.647233Z"
    }
   },
   "id": "536d2427d99cd0ec",
   "execution_count": 7
  },
  {
   "cell_type": "code",
   "outputs": [],
   "source": [
    "# Extract features and add them to the DataFrame\n",
    "k = 3  # k-mer size\n",
    "df['kmer_frequencies'] = df['Sequence'].apply(lambda x: get_kmer_frequencies(x, k))\n",
    "df['gc_content'] = df['Sequence'].apply(get_gc_content)\n",
    "kmer_df = df['kmer_frequencies'].apply(pd.Series)\n",
    "df = pd.concat([df, kmer_df], axis=1)"
   ],
   "metadata": {
    "collapsed": false,
    "ExecuteTime": {
     "end_time": "2024-12-30T23:26:24.662843Z",
     "start_time": "2024-12-30T23:26:24.650137Z"
    }
   },
   "id": "7ce6f1dd91207f2a",
   "execution_count": 8
  },
  {
   "cell_type": "code",
   "outputs": [],
   "source": [
    "# Add dinucleotide features\n",
    "df['dinucleotide_frequencies'] = df['Sequence'].apply(get_dinucleotide_frequencies)\n",
    "dinucleotide_df = df['dinucleotide_frequencies'].apply(pd.Series)\n",
    "df = pd.concat([df, dinucleotide_df], axis=1)"
   ],
   "metadata": {
    "collapsed": false,
    "ExecuteTime": {
     "end_time": "2024-12-30T23:26:24.673141Z",
     "start_time": "2024-12-30T23:26:24.662843Z"
    }
   },
   "id": "4d36baf31124b1f7",
   "execution_count": 9
  },
  {
   "cell_type": "code",
   "outputs": [],
   "source": [
    "# Apply One-Hot Encoding\n",
    "df_nucleotides = df['Sequence'].apply(lambda x: pd.Series(list(x)))\n",
    "df_encoded = pd.get_dummies(df_nucleotides)\n",
    "df = pd.concat([df, df_encoded], axis=1)"
   ],
   "metadata": {
    "collapsed": false,
    "ExecuteTime": {
     "end_time": "2024-12-30T23:26:24.690473Z",
     "start_time": "2024-12-30T23:26:24.673141Z"
    }
   },
   "id": "393a61283b38eb53",
   "execution_count": 10
  },
  {
   "cell_type": "code",
   "outputs": [],
   "source": [
    "# Encode the 'Class' column with Label Encoding\n",
    "label_encoder = LabelEncoder()\n",
    "df['Class'] = label_encoder.fit_transform(df['Class'])"
   ],
   "metadata": {
    "collapsed": false,
    "ExecuteTime": {
     "end_time": "2024-12-30T23:26:24.693673Z",
     "start_time": "2024-12-30T23:26:24.690473Z"
    }
   },
   "id": "30cf1206a0b7a215",
   "execution_count": 11
  },
  {
   "cell_type": "code",
   "outputs": [],
   "source": [
    "# Combine One-Hot Encoding, k-mer, and dinucleotide features\n",
    "X = df.drop(['Class', 'id', 'Sequence', 'kmer_frequencies', 'dinucleotide_frequencies'], axis=1)\n",
    "y = df['Class']"
   ],
   "metadata": {
    "collapsed": false,
    "ExecuteTime": {
     "end_time": "2024-12-30T23:26:24.697018Z",
     "start_time": "2024-12-30T23:26:24.693673Z"
    }
   },
   "id": "c203305ab459b626",
   "execution_count": 12
  },
  {
   "cell_type": "code",
   "outputs": [],
   "source": [
    "# Data scaling - for k-mer, dinucleotide frequencies, and GC content\n",
    "scaler = StandardScaler()\n",
    "X[['gc_content'] + list(kmer_df.columns) + list(dinucleotide_df.columns)] = scaler.fit_transform(\n",
    "    X[['gc_content'] + list(kmer_df.columns) + list(dinucleotide_df.columns)]\n",
    ")"
   ],
   "metadata": {
    "collapsed": false,
    "ExecuteTime": {
     "end_time": "2024-12-30T23:26:24.704367Z",
     "start_time": "2024-12-30T23:26:24.697018Z"
    }
   },
   "id": "4d72b7e9e8e66f58",
   "execution_count": 13
  },
  {
   "cell_type": "code",
   "outputs": [],
   "source": [
    "# Split the dataset into training and testing sets\n",
    "X_train, X_test, y_train, y_test = train_test_split(X, y, test_size=0.2, random_state=78)"
   ],
   "metadata": {
    "collapsed": false,
    "ExecuteTime": {
     "end_time": "2024-12-30T23:26:24.708854Z",
     "start_time": "2024-12-30T23:26:24.705373Z"
    }
   },
   "id": "74d2e5847acec215",
   "execution_count": 14
  },
  {
   "cell_type": "code",
   "outputs": [],
   "source": [
    "# Define the models\n",
    "knn = KNeighborsClassifier()\n",
    "svm = SVC()\n",
    "rf = RandomForestClassifier()\n",
    "xgb = XGBClassifier()\n",
    "lr = LogisticRegression(max_iter=1000)"
   ],
   "metadata": {
    "collapsed": false,
    "ExecuteTime": {
     "end_time": "2024-12-30T23:26:24.711216Z",
     "start_time": "2024-12-30T23:26:24.708854Z"
    }
   },
   "id": "ce8aff1e39497d49",
   "execution_count": 15
  },
  {
   "cell_type": "code",
   "outputs": [
    {
     "name": "stdout",
     "output_type": "stream",
     "text": [
      "KNN: Accuracy: 0.846 (std: 0.027)\n",
      "SVM: Accuracy: 0.940 (std: 0.037)\n",
      "Random Forest: Accuracy: 0.953 (std: 0.024)\n",
      "XGBoost: Accuracy: 0.870 (std: 0.068)\n",
      "Logistic Regression: Accuracy: 0.976 (std: 0.029)\n"
     ]
    }
   ],
   "source": [
    "# Train and evaluate models using 5-fold cross-validation\n",
    "models = [('KNN', knn), ('SVM', svm), ('Random Forest', rf), ('XGBoost', xgb), ('Logistic Regression', lr)]\n",
    "for name, model in models:\n",
    "    kfold = KFold(n_splits=5, shuffle=True, random_state=42)\n",
    "    cv_results = cross_val_score(model, X_train, y_train, cv=kfold, scoring='accuracy')\n",
    "    print(f'{name}: Accuracy: {cv_results.mean():.3f} (std: {cv_results.std():.3f})')"
   ],
   "metadata": {
    "collapsed": false,
    "ExecuteTime": {
     "end_time": "2024-12-30T23:26:26.189343Z",
     "start_time": "2024-12-30T23:26:24.711216Z"
    }
   },
   "id": "9ecee09e168f1ea2",
   "execution_count": 16
  }
 ],
 "metadata": {
  "kernelspec": {
   "display_name": "Python 3",
   "language": "python",
   "name": "python3"
  },
  "language_info": {
   "codemirror_mode": {
    "name": "ipython",
    "version": 2
   },
   "file_extension": ".py",
   "mimetype": "text/x-python",
   "name": "python",
   "nbconvert_exporter": "python",
   "pygments_lexer": "ipython2",
   "version": "2.7.6"
  }
 },
 "nbformat": 4,
 "nbformat_minor": 5
}
