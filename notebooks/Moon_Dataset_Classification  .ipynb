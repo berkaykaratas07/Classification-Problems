{
 "cells": [
  {
   "cell_type": "code",
   "id": "initial_id",
   "metadata": {
    "collapsed": true,
    "ExecuteTime": {
     "end_time": "2024-08-08T12:52:05.881428Z",
     "start_time": "2024-08-08T12:52:05.875661Z"
    }
   },
   "source": [
    "import pandas as pd\n",
    "from sklearn.model_selection import train_test_split, GridSearchCV\n",
    "from sklearn.neighbors import KNeighborsClassifier\n",
    "from sklearn.svm import SVC\n",
    "from sklearn.preprocessing import StandardScaler\n",
    "from sklearn.metrics import accuracy_score"
   ],
   "outputs": [],
   "execution_count": 61
  },
  {
   "metadata": {
    "ExecuteTime": {
     "end_time": "2024-08-08T12:52:05.896028Z",
     "start_time": "2024-08-08T12:52:05.888564Z"
    }
   },
   "cell_type": "code",
   "source": [
    "moon = pd.read_csv(\"C:\\\\Users\\\\Berkay\\\\PycharmProjects\\\\NewMissingData\\\\data\\\\moonDataset 2024-08-08 pmt 15.25.14.csv\")"
   ],
   "id": "d16256c200635463",
   "outputs": [],
   "execution_count": 62
  },
  {
   "metadata": {
    "ExecuteTime": {
     "end_time": "2024-08-08T12:52:05.908980Z",
     "start_time": "2024-08-08T12:52:05.898065Z"
    }
   },
   "cell_type": "code",
   "source": [
    "moon.head()"
   ],
   "id": "1ed264b500f04d2b",
   "outputs": [
    {
     "data": {
      "text/plain": [
       "         X1        X2        X3  label\n",
       "0 -0.926767 -0.111073  0.086017      0\n",
       "1 -0.917583  0.706006  0.058041      0\n",
       "2  0.437984  0.899093  0.072543      0\n",
       "3  0.089694  0.291446  0.070444      1\n",
       "4  0.110672 -0.070806 -0.090376      1"
      ],
      "text/html": [
       "<div>\n",
       "<style scoped>\n",
       "    .dataframe tbody tr th:only-of-type {\n",
       "        vertical-align: middle;\n",
       "    }\n",
       "\n",
       "    .dataframe tbody tr th {\n",
       "        vertical-align: top;\n",
       "    }\n",
       "\n",
       "    .dataframe thead th {\n",
       "        text-align: right;\n",
       "    }\n",
       "</style>\n",
       "<table border=\"1\" class=\"dataframe\">\n",
       "  <thead>\n",
       "    <tr style=\"text-align: right;\">\n",
       "      <th></th>\n",
       "      <th>X1</th>\n",
       "      <th>X2</th>\n",
       "      <th>X3</th>\n",
       "      <th>label</th>\n",
       "    </tr>\n",
       "  </thead>\n",
       "  <tbody>\n",
       "    <tr>\n",
       "      <th>0</th>\n",
       "      <td>-0.926767</td>\n",
       "      <td>-0.111073</td>\n",
       "      <td>0.086017</td>\n",
       "      <td>0</td>\n",
       "    </tr>\n",
       "    <tr>\n",
       "      <th>1</th>\n",
       "      <td>-0.917583</td>\n",
       "      <td>0.706006</td>\n",
       "      <td>0.058041</td>\n",
       "      <td>0</td>\n",
       "    </tr>\n",
       "    <tr>\n",
       "      <th>2</th>\n",
       "      <td>0.437984</td>\n",
       "      <td>0.899093</td>\n",
       "      <td>0.072543</td>\n",
       "      <td>0</td>\n",
       "    </tr>\n",
       "    <tr>\n",
       "      <th>3</th>\n",
       "      <td>0.089694</td>\n",
       "      <td>0.291446</td>\n",
       "      <td>0.070444</td>\n",
       "      <td>1</td>\n",
       "    </tr>\n",
       "    <tr>\n",
       "      <th>4</th>\n",
       "      <td>0.110672</td>\n",
       "      <td>-0.070806</td>\n",
       "      <td>-0.090376</td>\n",
       "      <td>1</td>\n",
       "    </tr>\n",
       "  </tbody>\n",
       "</table>\n",
       "</div>"
      ]
     },
     "execution_count": 63,
     "metadata": {},
     "output_type": "execute_result"
    }
   ],
   "execution_count": 63
  },
  {
   "metadata": {
    "ExecuteTime": {
     "end_time": "2024-08-08T12:52:05.918839Z",
     "start_time": "2024-08-08T12:52:05.912007Z"
    }
   },
   "cell_type": "code",
   "source": [
    "moon.isnull().sum()"
   ],
   "id": "d7b05044eecb7371",
   "outputs": [
    {
     "data": {
      "text/plain": [
       "X1       0\n",
       "X2       0\n",
       "X3       0\n",
       "label    0\n",
       "dtype: int64"
      ]
     },
     "execution_count": 64,
     "metadata": {},
     "output_type": "execute_result"
    }
   ],
   "execution_count": 64
  },
  {
   "metadata": {
    "ExecuteTime": {
     "end_time": "2024-08-08T12:52:05.942864Z",
     "start_time": "2024-08-08T12:52:05.934964Z"
    }
   },
   "cell_type": "code",
   "source": [
    "moon.dtypes"
   ],
   "id": "8d0975b8745420a9",
   "outputs": [
    {
     "data": {
      "text/plain": [
       "X1       float64\n",
       "X2       float64\n",
       "X3       float64\n",
       "label      int64\n",
       "dtype: object"
      ]
     },
     "execution_count": 65,
     "metadata": {},
     "output_type": "execute_result"
    }
   ],
   "execution_count": 65
  },
  {
   "metadata": {
    "ExecuteTime": {
     "end_time": "2024-08-08T12:52:05.968900Z",
     "start_time": "2024-08-08T12:52:05.955110Z"
    }
   },
   "cell_type": "code",
   "source": [
    "\n",
    "X = moon.drop('label', axis=1)\n",
    "y = moon['label']\n",
    "\n",
    "X_train, X_test, y_train, y_test = train_test_split(X, y, test_size=0.2, random_state=42)\n",
    "\n",
    "scaler = StandardScaler()\n",
    "X_train = scaler.fit_transform(X_train)\n",
    "X_test = scaler.transform(X_test)"
   ],
   "id": "22879bd52e3bfef4",
   "outputs": [],
   "execution_count": 66
  },
  {
   "metadata": {
    "ExecuteTime": {
     "end_time": "2024-08-08T12:52:06.619301Z",
     "start_time": "2024-08-08T12:52:05.971908Z"
    }
   },
   "cell_type": "code",
   "source": [
    "\n",
    "knn = KNeighborsClassifier()\n",
    "\n",
    "param_grid_knn = {'n_neighbors': range(1, 21)} \n",
    "\n",
    "grid_knn = GridSearchCV(knn, param_grid_knn, cv=5, scoring='accuracy')\n",
    "grid_knn.fit(X_train, y_train)\n",
    "\n",
    "y_pred_knn = grid_knn.predict(X_test)\n",
    "\n",
    "accuracy_knn = accuracy_score(y_test, y_pred_knn)\n",
    "print(f'KNN - En İyi Parametreler: {grid_knn.best_params_}')\n",
    "print(f'KNN - Test Seti Doğruluğu: {accuracy_knn:.3f}')"
   ],
   "id": "47b07d1e36a51787",
   "outputs": [
    {
     "name": "stdout",
     "output_type": "stream",
     "text": [
      "KNN - En İyi Parametreler: {'n_neighbors': 1}\n",
      "KNN - Test Seti Doğruluğu: 1.000\n"
     ]
    }
   ],
   "execution_count": 67
  },
  {
   "metadata": {
    "ExecuteTime": {
     "end_time": "2024-08-08T12:53:29.320974Z",
     "start_time": "2024-08-08T12:53:29.310624Z"
    }
   },
   "cell_type": "code",
   "source": [
    "svm_rbf = SVC(kernel = 'rbf')\n",
    "svm_rbf.fit(X_train, y_train)\n",
    "y_pred_rbf = svm_rbf.predict(X_test)\n",
    "accuracy_rbf = accuracy_score(y_test, y_pred_rbf)\n",
    "print(f'RBF SVM - Test Seti Doğruluğu: {accuracy_rbf:.3f}')"
   ],
   "id": "d4e93450a07dcdbd",
   "outputs": [
    {
     "name": "stdout",
     "output_type": "stream",
     "text": [
      "RBF SVM - Test Seti Doğruluğu: 1.000\n"
     ]
    }
   ],
   "execution_count": 72
  },
  {
   "metadata": {
    "ExecuteTime": {
     "end_time": "2024-08-08T12:52:06.645378Z",
     "start_time": "2024-08-08T12:52:06.635200Z"
    }
   },
   "cell_type": "code",
   "source": [
    "svm_linear = SVC() \n",
    "svm_linear.fit(X_train, y_train)\n",
    "y_pred_linear = svm_linear.predict(X_test)\n",
    "accuracy_linear = accuracy_score(y_test, y_pred_linear)\n",
    "print(f'Lineer SVM - Test Seti Doğruluğu: {accuracy_linear:.3f}')"
   ],
   "id": "83dfc122e746ad8d",
   "outputs": [
    {
     "name": "stdout",
     "output_type": "stream",
     "text": [
      "Lineer SVM - Test Seti Doğruluğu: 1.000\n"
     ]
    }
   ],
   "execution_count": 69
  }
 ],
 "metadata": {
  "kernelspec": {
   "display_name": "Python 3",
   "language": "python",
   "name": "python3"
  },
  "language_info": {
   "codemirror_mode": {
    "name": "ipython",
    "version": 2
   },
   "file_extension": ".py",
   "mimetype": "text/x-python",
   "name": "python",
   "nbconvert_exporter": "python",
   "pygments_lexer": "ipython2",
   "version": "2.7.6"
  }
 },
 "nbformat": 4,
 "nbformat_minor": 5
}
